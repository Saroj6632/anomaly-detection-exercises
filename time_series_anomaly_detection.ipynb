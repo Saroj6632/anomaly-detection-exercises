{
 "cells": [
  {
   "cell_type": "code",
   "execution_count": 1,
   "id": "f5f19d50",
   "metadata": {},
   "outputs": [],
   "source": [
    "import warnings\n",
    "warnings.filterwarnings(\"ignore\")\n",
    "import matplotlib.pyplot as plt\n",
    "\n",
    "import numpy as np\n",
    "import pandas as pd\n",
    "import seaborn as sns\n",
    "import env"
   ]
  },
  {
   "cell_type": "markdown",
   "id": "9cc18410",
   "metadata": {},
   "source": [
    "# Exercises\n",
    "- file name: `time_series_anomaly_detection.py` or `time_series_anomaly_detection.ipynb`\n",
    "\n",
    "The dataset for these exercises lives in the Codeup Data Science MySQL Server. The database name is curriculum_logs.\n",
    "\n",
    "1. Label students by the program they are in.\n",
    "1. Is it possible to identify the user_id of a staff member?\n",
    "1. Identify students who are accessing our curriculum pages beyond the end of their time at Codeup.\n",
    "1. Identify students who present anomalous activity using the Bollinger Band method, but reduce K to 2. \n",
    "1. Plot the access activity of these students.\n",
    "\n",
    "**BONUS:** Can you identify users who are viewing both the web dev and data science curriculum?"
   ]
  },
  {
   "cell_type": "code",
   "execution_count": 2,
   "id": "8fa20cc1",
   "metadata": {},
   "outputs": [],
   "source": [
    "''' function to connect to CodeUp SQL database'''\n",
    "def get_connection(db, user=env.username, host=env.host, password=env.password):\n",
    "    return f'mysql+pymysql://{env.username}:{env.password}@{env.host}/{db}'\n"
   ]
  },
  {
   "cell_type": "code",
   "execution_count": null,
   "id": "386872f2",
   "metadata": {},
   "outputs": [],
   "source": [
    "sql= "
   ]
  }
 ],
 "metadata": {
  "kernelspec": {
   "display_name": "Python 3 (ipykernel)",
   "language": "python",
   "name": "python3"
  },
  "language_info": {
   "codemirror_mode": {
    "name": "ipython",
    "version": 3
   },
   "file_extension": ".py",
   "mimetype": "text/x-python",
   "name": "python",
   "nbconvert_exporter": "python",
   "pygments_lexer": "ipython3",
   "version": "3.9.12"
  }
 },
 "nbformat": 4,
 "nbformat_minor": 5
}
